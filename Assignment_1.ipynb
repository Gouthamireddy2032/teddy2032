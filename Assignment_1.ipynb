{
  "nbformat": 4,
  "nbformat_minor": 0,
  "metadata": {
    "colab": {
      "name": "Assignment 1.ipynb",
      "provenance": [],
      "authorship_tag": "ABX9TyM9UFGODMg12adL+NNzIQLX",
      "include_colab_link": true
    },
    "kernelspec": {
      "name": "python3",
      "display_name": "Python 3"
    },
    "language_info": {
      "name": "python"
    }
  },
  "cells": [
    {
      "cell_type": "markdown",
      "metadata": {
        "id": "view-in-github",
        "colab_type": "text"
      },
      "source": [
        "<a href=\"https://colab.research.google.com/github/Gouthamireddy2032/teddy2032/blob/main/Assignment_1.ipynb\" target=\"_parent\"><img src=\"https://colab.research.google.com/assets/colab-badge.svg\" alt=\"Open In Colab\"/></a>"
      ]
    },
    {
      "cell_type": "markdown",
      "metadata": {
        "id": "-EZmSnR0IA-x"
      },
      "source": [
        "Assignment 1"
      ]
    },
    {
      "cell_type": "code",
      "metadata": {
        "colab": {
          "base_uri": "https://localhost:8080/"
        },
        "id": "VVtW1oa0Hg0_",
        "outputId": "e986167e-eb68-41b9-fd93-8598d2dadc5e"
      },
      "source": [
        "#Initialize array     \n",
        "arr = [5, 2, 8, 7, 1];     \n",
        "temp = 0;    \n",
        "     \n",
        "#Displaying elements of original array    \n",
        "print(\"Elements of original array: \");    \n",
        "for i in range(0, len(arr)):     \n",
        "    print(arr[i]),    \n",
        "     \n",
        "#Sort the array in descending order    \n",
        "for i in range(0, len(arr)):    \n",
        "    for j in range(i+1, len(arr)):    \n",
        "        if(arr[i] < arr[j]):    \n",
        "            temp = arr[i];    \n",
        "            arr[i] = arr[j];    \n",
        "            arr[j] = temp;    \n",
        "     \n",
        "print();    \n",
        "     \n",
        "#Displaying elements of array after sorting    \n",
        "print(\"Elements of array sorted in descending order: \");    \n",
        "for i in range(0, len(arr)):     \n",
        "    print(arr[i]),"
      ],
      "execution_count": 2,
      "outputs": [
        {
          "output_type": "stream",
          "text": [
            "Elements of original array: \n",
            "5\n",
            "2\n",
            "8\n",
            "7\n",
            "1\n",
            "\n",
            "Elements of array sorted in descending order: \n",
            "8\n",
            "7\n",
            "5\n",
            "2\n",
            "1\n"
          ],
          "name": "stdout"
        }
      ]
    }
  ]
}